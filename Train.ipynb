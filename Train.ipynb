{
 "cells": [
  {
   "cell_type": "code",
   "execution_count": null,
   "id": "8ae39fd5-99b1-4456-a02c-6a9aa31f5bf8",
   "metadata": {},
   "outputs": [
    {
     "name": "stdout",
     "output_type": "stream",
     "text": [
      "Epoch 1/25\n",
      "----------\n"
     ]
    },
    {
     "name": "stderr",
     "output_type": "stream",
     "text": [
      " 97%|█████████▋| 728/752 [12:45<00:08,  2.91it/s]"
     ]
    }
   ],
   "source": [
    "%run main.py --data-directory train_data --exp_directory ROIExp --batch-size 2"
   ]
  },
  {
   "cell_type": "code",
   "execution_count": 1,
   "id": "b0c74748-62a9-4d07-a1d8-587752021187",
   "metadata": {},
   "outputs": [],
   "source": [
    "%load_ext autoreload\n",
    "%autoreload 2"
   ]
  },
  {
   "cell_type": "code",
   "execution_count": 2,
   "id": "3384cd03-8319-4019-84c0-f93db10052a7",
   "metadata": {},
   "outputs": [
    {
     "name": "stdout",
     "output_type": "stream",
     "text": [
      "Sat Mar 26 15:16:31 2022       \n",
      "+-----------------------------------------------------------------------------+\n",
      "| NVIDIA-SMI 470.82.01    Driver Version: 470.82.01    CUDA Version: 11.4     |\n",
      "|-------------------------------+----------------------+----------------------+\n",
      "| GPU  Name        Persistence-M| Bus-Id        Disp.A | Volatile Uncorr. ECC |\n",
      "| Fan  Temp  Perf  Pwr:Usage/Cap|         Memory-Usage | GPU-Util  Compute M. |\n",
      "|                               |                      |               MIG M. |\n",
      "|===============================+======================+======================|\n",
      "|   0  GRID V100D-8C       On   | 00000000:00:05.0 Off |                    0 |\n",
      "| N/A   N/A    P0    N/A /  N/A |    560MiB /  8192MiB |      0%      Default |\n",
      "|                               |                      |                  N/A |\n",
      "+-------------------------------+----------------------+----------------------+\n",
      "                                                                               \n",
      "+-----------------------------------------------------------------------------+\n",
      "| Processes:                                                                  |\n",
      "|  GPU   GI   CI        PID   Type   Process name                  GPU Memory |\n",
      "|        ID   ID                                                   Usage      |\n",
      "|=============================================================================|\n",
      "|  No running processes found                                                 |\n",
      "+-----------------------------------------------------------------------------+\n"
     ]
    }
   ],
   "source": [
    "!nvidia-smi"
   ]
  },
  {
   "cell_type": "code",
   "execution_count": 3,
   "id": "28ea2af0-04db-40e9-bbe9-0fc86d6c1f25",
   "metadata": {},
   "outputs": [
    {
     "name": "stdout",
     "output_type": "stream",
     "text": [
      "/bin/bash: line 0: kill: (11465) - No such process\n"
     ]
    }
   ],
   "source": [
    "!kill -9 11465"
   ]
  },
  {
   "cell_type": "code",
   "execution_count": 12,
   "id": "52d88903-1623-4722-8e30-91e5d25b667a",
   "metadata": {},
   "outputs": [
    {
     "name": "stdout",
     "output_type": "stream",
     "text": [
      "rm: cannot remove './train_data/Images/.ipynb_checkpoints': No such file or directory\n"
     ]
    }
   ],
   "source": [
    "!rm -r ./train_data/Images/.ipynb_checkpoints"
   ]
  },
  {
   "cell_type": "code",
   "execution_count": 3,
   "id": "1a3108ba-1b85-46eb-a079-c90206a04976",
   "metadata": {},
   "outputs": [],
   "source": [
    "import torch\n",
    "\n",
    "model = torch.load('./ROIExp/weights_original.pt')"
   ]
  },
  {
   "cell_type": "code",
   "execution_count": 2,
   "id": "964571dd-412f-488f-a47b-fe197484f576",
   "metadata": {},
   "outputs": [],
   "source": [
    "import datahandler\n",
    "dataloaders = datahandler.get_dataloader_single_folder(\n",
    "        'train_data', batch_size=2)"
   ]
  },
  {
   "cell_type": "code",
   "execution_count": 3,
   "id": "de6730ca-a950-4adf-ae51-b35d25c56d9c",
   "metadata": {},
   "outputs": [
    {
     "data": {
      "text/plain": [
       "{'Train': <torch.utils.data.dataloader.DataLoader at 0x2ac8ec2fc940>,\n",
       " 'Test': <torch.utils.data.dataloader.DataLoader at 0x2ac8ec2fc880>}"
      ]
     },
     "execution_count": 3,
     "metadata": {},
     "output_type": "execute_result"
    }
   ],
   "source": [
    "dataloaders"
   ]
  },
  {
   "cell_type": "code",
   "execution_count": 4,
   "id": "3c9a4809-4759-4dc3-a197-57638dd434c5",
   "metadata": {},
   "outputs": [
    {
     "name": "stderr",
     "output_type": "stream",
     "text": [
      "100%|██████████| 188/188 [01:28<00:00,  2.13it/s]\n"
     ]
    }
   ],
   "source": [
    "import numpy as np\n",
    "from tqdm import tqdm\n",
    "from PIL import Image\n",
    "\n",
    "model.eval()  # Set model to evaluate mode\n",
    "preds = np.array([])\n",
    "trues = np.array([])\n",
    "device = 'cuda'\n",
    "threshold = 0.5\n",
    "\n",
    "# Iterate over data.\n",
    "for sample in tqdm(iter(dataloaders['Test'])):\n",
    "    inputs = sample['image'].to(device)\n",
    "    masks = sample['mask'].to(device)\n",
    "    #print(masks)\n",
    "    # track history if only in train\n",
    "    with torch.set_grad_enabled(False):\n",
    "        outputs = model(inputs)\n",
    "        y_pred = outputs['out'].data.cpu().numpy()\n",
    "        y_true = masks.data.cpu().numpy()\n",
    "        preds = np.concatenate([preds, y_pred.ravel()])\n",
    "        trues = np.concatenate([trues, y_true.ravel()])\n",
    "        #print((y_pred>threshold).astype('uint8').shape)\n",
    "        #print(sample['mask'][0])\n",
    "        for i in range(y_pred.shape[0]): \n",
    "            pred_mask = Image.fromarray((y_pred>threshold)[i].astype('uint8').reshape((512, 512)))\n",
    "            pred_mask.save(\"./pred_mask/\" + sample['maskname'][i])"
   ]
  },
  {
   "cell_type": "code",
   "execution_count": 12,
   "id": "5a46e6e6-5b16-4a47-85b9-0e3bafdd2c92",
   "metadata": {},
   "outputs": [
    {
     "data": {
      "text/plain": [
       "7.373761008950909e-05"
      ]
     },
     "execution_count": 13,
     "metadata": {},
     "output_type": "execute_result"
    }
   ],
   "source": [
    "from sklearn.metrics import f1_score\n",
    "\n",
    "f1_score(trues > 0, preds > 0.4)"
   ]
  },
  {
   "cell_type": "code",
   "execution_count": 6,
   "id": "2a063230-684d-49da-892a-5ac5137894b4",
   "metadata": {},
   "outputs": [
    {
     "data": {
      "text/plain": [
       "'              precision    recall  f1-score   support\\n\\n       False     0.3163    0.2608    0.2859  20119284\\n        True     0.8180    0.8549    0.8361  78184716\\n\\n    accuracy                         0.7333  98304000\\n   macro avg     0.5671    0.5579    0.5610  98304000\\nweighted avg     0.7153    0.7333    0.7234  98304000\\n'"
      ]
     },
     "execution_count": 6,
     "metadata": {},
     "output_type": "execute_result"
    }
   ],
   "source": [
    "from sklearn.metrics import classification_report\n",
    "\n",
    "classification_report(trues > 0, preds > 0.4, digits=4)"
   ]
  },
  {
   "cell_type": "code",
   "execution_count": null,
   "id": "2cf48a4c-6709-4a82-8f1a-d9cdb242daee",
   "metadata": {},
   "outputs": [],
   "source": [
    "from sklearn.metrics import roc_auc_score\n",
    "\n",
    "roc_auc_score(trues.astype('uint8'), preds)"
   ]
  },
  {
   "cell_type": "code",
   "execution_count": 7,
   "id": "bceea416-84b6-4b0c-8c6b-ed9994a34a01",
   "metadata": {},
   "outputs": [
    {
     "data": {
      "text/plain": [
       "Counter({True: 97747996, False: 556004})"
      ]
     },
     "execution_count": 7,
     "metadata": {},
     "output_type": "execute_result"
    }
   ],
   "source": [
    "from collections import Counter\n",
    "\n",
    "Counter(preds > 0.1)"
   ]
  },
  {
   "cell_type": "code",
   "execution_count": null,
   "id": "c3434293-bad9-4398-ada5-2650031e95ea",
   "metadata": {},
   "outputs": [],
   "source": []
  }
 ],
 "metadata": {
  "kernelspec": {
   "display_name": "deepenv",
   "language": "python",
   "name": "deepenv"
  },
  "language_info": {
   "codemirror_mode": {
    "name": "ipython",
    "version": 3
   },
   "file_extension": ".py",
   "mimetype": "text/x-python",
   "name": "python",
   "nbconvert_exporter": "python",
   "pygments_lexer": "ipython3",
   "version": "3.8.10"
  }
 },
 "nbformat": 4,
 "nbformat_minor": 5
}
