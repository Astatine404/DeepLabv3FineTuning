{
 "cells": [
  {
   "cell_type": "code",
   "execution_count": 1,
   "id": "26720209-0d0e-4d3e-bd40-6516314f3bbf",
   "metadata": {},
   "outputs": [],
   "source": [
    "from PIL import Image\n",
    "import os, shutil\n",
    "import numpy as np\n",
    "\n",
    "DATA_PATH = r\"/home/saurabhb9/projects/def-sponsor00/saurabhb9/data/TIGER/TIGER sample data/wsirois/roi-level-annotations/tissue-cells\"\n",
    "#DATA_PATH = r\"/home/saurabhb9/projects/def-sponsor00/saurabhb9/wsirois/roi-level-annotations/tissue-cells\"\n",
    "images_path = DATA_PATH + \"/images\"\n",
    "#binary_masks_path = DATA_PATH + \"/binary_masks\"\n",
    "binary_masks_path = DATA_PATH + \"/binary_masks\"\n",
    "train_dest_path = r\"./train_data\"\n",
    "valid_dest_path = r\"./valid_data\"\n",
    "test_dest_path = r\"./test_data\""
   ]
  },
  {
   "cell_type": "code",
   "execution_count": 2,
   "id": "da3be7b4-967a-433b-aa0f-4ea516efbbeb",
   "metadata": {},
   "outputs": [],
   "source": [
    "if not os.path.exists(train_dest_path):\n",
    "    os.makedirs(train_dest_path)\n",
    "    os.makedirs(train_dest_path+'/Images')\n",
    "    os.makedirs(train_dest_path+'/Masks')\n",
    "# if not os.path.exists(valid_dest_path):\n",
    "#     os.makedirs(valid_dest_path)\n",
    "#     os.makedirs(valid_dest_path+'/imgs')\n",
    "#     os.makedirs(valid_dest_path+'/masks')\n",
    "# if not os.path.exists(test_dest_path):\n",
    "#     os.makedirs(test_dest_path)\n",
    "#     os.makedirs(test_dest_path+'/imgs')\n",
    "#     os.makedirs(test_dest_path+'/masks')"
   ]
  },
  {
   "cell_type": "code",
   "execution_count": 3,
   "id": "c273201c-5fed-48b4-b4f9-c849e2ea2923",
   "metadata": {},
   "outputs": [],
   "source": [
    "def detect_tumor(mask):\n",
    "    \"\"\"\n",
    "    If at least one pixel of the mask is labeled as tumor (1), return TRUE.\n",
    "    Otherwise, FALSE \n",
    "    \"\"\"\n",
    "\n",
    "    pixel_map = mask.load()\n",
    "    width, height = mask.size\n",
    "    \n",
    "    for i in range(width):\n",
    "        for j in range(height):\n",
    "            if pixel_map[i, j] == 1:\n",
    "                return True\n",
    "    return False"
   ]
  },
  {
   "cell_type": "code",
   "execution_count": 4,
   "id": "db7b9112-40fb-4863-a5c6-bcc98822e6c5",
   "metadata": {},
   "outputs": [],
   "source": [
    "# binary_masks_files = os.listdir(binary_masks_path)\n",
    "# for mask_file in binary_masks_files:\n",
    "#     # Process all masks\n",
    "#     mask = Image.open(binary_masks_path+'\\\\'+mask_file)\n",
    "    \n",
    "#     if detect_tumor(mask):\n",
    "#         label = '1_'\n",
    "#     else:\n",
    "#         label = '0_'\n",
    "#     os.rename(binary_masks_path+'\\\\'+ mask_file, binary_masks_path+'\\\\'+ label + mask_file)\n",
    "#     os.rename(images_path+'\\\\'+ mask_file[7:], images_path+'\\\\'+ label + mask_file[7:])\n"
   ]
  },
  {
   "cell_type": "code",
   "execution_count": 5,
   "id": "bfe8335d-1ecb-4ccf-a106-99b5609ab8d3",
   "metadata": {},
   "outputs": [],
   "source": [
    "images_files = os.listdir(images_path)"
   ]
  },
  {
   "cell_type": "code",
   "execution_count": 6,
   "id": "4b32bc18-1532-40e9-b5fb-c5e6ad4d3ac7",
   "metadata": {},
   "outputs": [],
   "source": [
    "perm = np.random.permutation(range(0, len(images_files)))"
   ]
  },
  {
   "cell_type": "code",
   "execution_count": 7,
   "id": "59bd77a0-2267-43d7-aa38-92790f679bbd",
   "metadata": {},
   "outputs": [],
   "source": [
    "# 60% training 20% valid 20% test\n",
    "train_size = int(len(images_files)*1)\n",
    "# valid_size = int(len(images_files)*0.2)\n",
    "# test_size = len(images_files) - (train_size + valid_size)\n",
    "\n",
    "train_idx = perm[:train_size]\n",
    "# valid_idx = perm[train_size:train_size+valid_size]  \n",
    "# test_idx = perm[-test_size:]  \n",
    "\n",
    "train_files = np.array(images_files)[train_idx]\n",
    "# valid_files = np.array(images_files)[valid_idx]\n",
    "# test_files = np.array(images_files)[test_idx]"
   ]
  },
  {
   "cell_type": "code",
   "execution_count": 8,
   "id": "4ccff1c2-a289-4812-b316-b45072f36f6f",
   "metadata": {},
   "outputs": [],
   "source": [
    "def copy(src, dest, files):\n",
    "    for file in files:\n",
    "        shutil.copy(src+'/images/'+file, dest+'/Images')\n",
    "        #shutil.copy(src+'/binary_masks/binary_'+file, dest+'/masks/'+file)\n",
    "        shutil.copy(binary_masks_path + '/binary_'+file, dest+'/Masks/'+file)"
   ]
  },
  {
   "cell_type": "code",
   "execution_count": 9,
   "id": "e5d7931c-443a-465e-82d9-06027c4d6499",
   "metadata": {},
   "outputs": [],
   "source": [
    "try:\n",
    "    copy(DATA_PATH, train_dest_path, train_files)\n",
    "except Exception as e:\n",
    "    print(e)\n",
    "    pass\n",
    "# try:\n",
    "#     copy(DATA_PATH, valid_dest_path, valid_files)\n",
    "# except Exception as e:\n",
    "#     print(e)\n",
    "#     pass\n",
    "# try:\n",
    "#     copy(DATA_PATH, test_dest_path, test_files)\n",
    "# except Exception as e:\n",
    "#     print(e)\n",
    "#     pass"
   ]
  },
  {
   "cell_type": "code",
   "execution_count": 10,
   "id": "c43b6618-c5bd-4d06-a61a-03a25e6127eb",
   "metadata": {},
   "outputs": [
    {
     "data": {
      "text/plain": [
       "1879"
      ]
     },
     "execution_count": 10,
     "metadata": {},
     "output_type": "execute_result"
    }
   ],
   "source": [
    "import os\n",
    "\n",
    "path, dirs, files = next(os.walk(\"./train_data/Images\"))\n",
    "len(files)"
   ]
  },
  {
   "cell_type": "code",
   "execution_count": null,
   "id": "239e05ed-5bc8-4819-aed2-a5afde14540d",
   "metadata": {},
   "outputs": [],
   "source": [
    "file"
   ]
  }
 ],
 "metadata": {
  "kernelspec": {
   "display_name": "venv3",
   "language": "python",
   "name": "venv3"
  },
  "language_info": {
   "codemirror_mode": {
    "name": "ipython",
    "version": 3
   },
   "file_extension": ".py",
   "mimetype": "text/x-python",
   "name": "python",
   "nbconvert_exporter": "python",
   "pygments_lexer": "ipython3",
   "version": "3.9.6"
  }
 },
 "nbformat": 4,
 "nbformat_minor": 5
}
